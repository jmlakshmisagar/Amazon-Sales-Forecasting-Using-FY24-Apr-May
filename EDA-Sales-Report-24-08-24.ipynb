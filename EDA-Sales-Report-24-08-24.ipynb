{
 "cells": [
  {
   "cell_type": "code",
   "execution_count": 1,
   "id": "0c5c32ef",
   "metadata": {},
   "outputs": [],
   "source": [
    "import pandas as pd\n",
    "import numpy as np\n",
    "import matplotlib.pyplot as plt\n",
    "import seaborn as sns"
   ]
  },
  {
   "cell_type": "code",
   "execution_count": 2,
   "id": "40e9c5be",
   "metadata": {},
   "outputs": [],
   "source": [
    "df=pd.read_csv('/home/jmlakshmisagar/Desktop/DS/dropped-dataset.csv')"
   ]
  },
  {
   "cell_type": "code",
   "execution_count": 3,
   "id": "9461c855",
   "metadata": {},
   "outputs": [
    {
     "data": {
      "text/html": [
       "<div>\n",
       "<style scoped>\n",
       "    .dataframe tbody tr th:only-of-type {\n",
       "        vertical-align: middle;\n",
       "    }\n",
       "\n",
       "    .dataframe tbody tr th {\n",
       "        vertical-align: top;\n",
       "    }\n",
       "\n",
       "    .dataframe thead th {\n",
       "        text-align: right;\n",
       "    }\n",
       "</style>\n",
       "<table border=\"1\" class=\"dataframe\">\n",
       "  <thead>\n",
       "    <tr style=\"text-align: right;\">\n",
       "      <th></th>\n",
       "      <th>Unnamed: 0</th>\n",
       "      <th>Date</th>\n",
       "      <th>Status</th>\n",
       "      <th>Fulfilment</th>\n",
       "      <th>ship-service-level</th>\n",
       "      <th>Style</th>\n",
       "      <th>SKU</th>\n",
       "      <th>Category</th>\n",
       "      <th>Size</th>\n",
       "      <th>Courier Status</th>\n",
       "      <th>Qty</th>\n",
       "      <th>Amount</th>\n",
       "      <th>ship-city</th>\n",
       "      <th>ship-postal-code</th>\n",
       "      <th>B2B</th>\n",
       "    </tr>\n",
       "  </thead>\n",
       "  <tbody>\n",
       "    <tr>\n",
       "      <th>0</th>\n",
       "      <td>0</td>\n",
       "      <td>2024-03-31</td>\n",
       "      <td>shipped - delivered to buyer</td>\n",
       "      <td>Merchant</td>\n",
       "      <td>standard</td>\n",
       "      <td>JNE3724</td>\n",
       "      <td>JNE3724-KR-L</td>\n",
       "      <td>kurta</td>\n",
       "      <td>L</td>\n",
       "      <td>shipped</td>\n",
       "      <td>1</td>\n",
       "      <td>495.00</td>\n",
       "      <td>kolkata</td>\n",
       "      <td>700124</td>\n",
       "      <td>0</td>\n",
       "    </tr>\n",
       "    <tr>\n",
       "      <th>1</th>\n",
       "      <td>1</td>\n",
       "      <td>2024-03-31</td>\n",
       "      <td>shipped</td>\n",
       "      <td>Amazon</td>\n",
       "      <td>expedited</td>\n",
       "      <td>SET187</td>\n",
       "      <td>SET187-KR-DH-XL</td>\n",
       "      <td>set</td>\n",
       "      <td>XL</td>\n",
       "      <td>shipped</td>\n",
       "      <td>1</td>\n",
       "      <td>599.00</td>\n",
       "      <td>bengaluru</td>\n",
       "      <td>560090</td>\n",
       "      <td>0</td>\n",
       "    </tr>\n",
       "    <tr>\n",
       "      <th>2</th>\n",
       "      <td>2</td>\n",
       "      <td>2024-03-31</td>\n",
       "      <td>cancelled</td>\n",
       "      <td>Merchant</td>\n",
       "      <td>standard</td>\n",
       "      <td>JNE3383</td>\n",
       "      <td>JNE3383-KR-A-M</td>\n",
       "      <td>kurta</td>\n",
       "      <td>M</td>\n",
       "      <td>NaN</td>\n",
       "      <td>0</td>\n",
       "      <td>416.19</td>\n",
       "      <td>gurgaon</td>\n",
       "      <td>122001</td>\n",
       "      <td>0</td>\n",
       "    </tr>\n",
       "    <tr>\n",
       "      <th>3</th>\n",
       "      <td>3</td>\n",
       "      <td>2024-03-31</td>\n",
       "      <td>shipped</td>\n",
       "      <td>Amazon</td>\n",
       "      <td>expedited</td>\n",
       "      <td>JNE3405</td>\n",
       "      <td>JNE3405-KR-L</td>\n",
       "      <td>kurta</td>\n",
       "      <td>L</td>\n",
       "      <td>shipped</td>\n",
       "      <td>1</td>\n",
       "      <td>449.00</td>\n",
       "      <td>nalasopara east</td>\n",
       "      <td>401209</td>\n",
       "      <td>0</td>\n",
       "    </tr>\n",
       "    <tr>\n",
       "      <th>4</th>\n",
       "      <td>4</td>\n",
       "      <td>2024-03-31</td>\n",
       "      <td>shipped</td>\n",
       "      <td>Amazon</td>\n",
       "      <td>expedited</td>\n",
       "      <td>SET044</td>\n",
       "      <td>SET044-KR-NP-L</td>\n",
       "      <td>set</td>\n",
       "      <td>L</td>\n",
       "      <td>shipped</td>\n",
       "      <td>1</td>\n",
       "      <td>542.00</td>\n",
       "      <td>hyderabad</td>\n",
       "      <td>500024</td>\n",
       "      <td>0</td>\n",
       "    </tr>\n",
       "  </tbody>\n",
       "</table>\n",
       "</div>"
      ],
      "text/plain": [
       "   Unnamed: 0        Date                        Status Fulfilment  \\\n",
       "0           0  2024-03-31  shipped - delivered to buyer   Merchant   \n",
       "1           1  2024-03-31                       shipped     Amazon   \n",
       "2           2  2024-03-31                     cancelled   Merchant   \n",
       "3           3  2024-03-31                       shipped     Amazon   \n",
       "4           4  2024-03-31                       shipped     Amazon   \n",
       "\n",
       "  ship-service-level    Style              SKU Category Size Courier Status  \\\n",
       "0           standard  JNE3724     JNE3724-KR-L    kurta    L        shipped   \n",
       "1          expedited   SET187  SET187-KR-DH-XL      set   XL        shipped   \n",
       "2           standard  JNE3383   JNE3383-KR-A-M    kurta    M            NaN   \n",
       "3          expedited  JNE3405     JNE3405-KR-L    kurta    L        shipped   \n",
       "4          expedited   SET044   SET044-KR-NP-L      set    L        shipped   \n",
       "\n",
       "   Qty  Amount        ship-city  ship-postal-code  B2B  \n",
       "0    1  495.00          kolkata            700124    0  \n",
       "1    1  599.00        bengaluru            560090    0  \n",
       "2    0  416.19          gurgaon            122001    0  \n",
       "3    1  449.00  nalasopara east            401209    0  \n",
       "4    1  542.00        hyderabad            500024    0  "
      ]
     },
     "execution_count": 3,
     "metadata": {},
     "output_type": "execute_result"
    }
   ],
   "source": [
    "df.head()"
   ]
  },
  {
   "cell_type": "code",
   "execution_count": 5,
   "id": "8cc990b6",
   "metadata": {},
   "outputs": [
    {
     "name": "stdout",
     "output_type": "stream",
     "text": [
      "Index(['Unnamed: 0', 'Date', 'Status', 'Fulfilment', 'ship-service-level',\n",
      "       'Style', 'SKU', 'Category', 'Size', 'Courier Status', 'Qty', 'Amount',\n",
      "       'ship-city', 'ship-postal-code', 'B2B'],\n",
      "      dtype='object')\n"
     ]
    }
   ],
   "source": [
    "print(df.columns)"
   ]
  },
  {
   "cell_type": "code",
   "execution_count": 7,
   "id": "e7e75e60",
   "metadata": {},
   "outputs": [],
   "source": [
    "df.drop(['Unnamed: 0'],axis=1,inplace=True)"
   ]
  },
  {
   "cell_type": "code",
   "execution_count": 8,
   "id": "cece5cc1",
   "metadata": {},
   "outputs": [
    {
     "data": {
      "text/html": [
       "<div>\n",
       "<style scoped>\n",
       "    .dataframe tbody tr th:only-of-type {\n",
       "        vertical-align: middle;\n",
       "    }\n",
       "\n",
       "    .dataframe tbody tr th {\n",
       "        vertical-align: top;\n",
       "    }\n",
       "\n",
       "    .dataframe thead th {\n",
       "        text-align: right;\n",
       "    }\n",
       "</style>\n",
       "<table border=\"1\" class=\"dataframe\">\n",
       "  <thead>\n",
       "    <tr style=\"text-align: right;\">\n",
       "      <th></th>\n",
       "      <th>Date</th>\n",
       "      <th>Status</th>\n",
       "      <th>Fulfilment</th>\n",
       "      <th>ship-service-level</th>\n",
       "      <th>Style</th>\n",
       "      <th>SKU</th>\n",
       "      <th>Category</th>\n",
       "      <th>Size</th>\n",
       "      <th>Courier Status</th>\n",
       "      <th>Qty</th>\n",
       "      <th>Amount</th>\n",
       "      <th>ship-city</th>\n",
       "      <th>ship-postal-code</th>\n",
       "      <th>B2B</th>\n",
       "    </tr>\n",
       "  </thead>\n",
       "  <tbody>\n",
       "    <tr>\n",
       "      <th>0</th>\n",
       "      <td>2024-03-31</td>\n",
       "      <td>shipped - delivered to buyer</td>\n",
       "      <td>Merchant</td>\n",
       "      <td>standard</td>\n",
       "      <td>JNE3724</td>\n",
       "      <td>JNE3724-KR-L</td>\n",
       "      <td>kurta</td>\n",
       "      <td>L</td>\n",
       "      <td>shipped</td>\n",
       "      <td>1</td>\n",
       "      <td>495.00</td>\n",
       "      <td>kolkata</td>\n",
       "      <td>700124</td>\n",
       "      <td>0</td>\n",
       "    </tr>\n",
       "    <tr>\n",
       "      <th>1</th>\n",
       "      <td>2024-03-31</td>\n",
       "      <td>shipped</td>\n",
       "      <td>Amazon</td>\n",
       "      <td>expedited</td>\n",
       "      <td>SET187</td>\n",
       "      <td>SET187-KR-DH-XL</td>\n",
       "      <td>set</td>\n",
       "      <td>XL</td>\n",
       "      <td>shipped</td>\n",
       "      <td>1</td>\n",
       "      <td>599.00</td>\n",
       "      <td>bengaluru</td>\n",
       "      <td>560090</td>\n",
       "      <td>0</td>\n",
       "    </tr>\n",
       "    <tr>\n",
       "      <th>2</th>\n",
       "      <td>2024-03-31</td>\n",
       "      <td>cancelled</td>\n",
       "      <td>Merchant</td>\n",
       "      <td>standard</td>\n",
       "      <td>JNE3383</td>\n",
       "      <td>JNE3383-KR-A-M</td>\n",
       "      <td>kurta</td>\n",
       "      <td>M</td>\n",
       "      <td>NaN</td>\n",
       "      <td>0</td>\n",
       "      <td>416.19</td>\n",
       "      <td>gurgaon</td>\n",
       "      <td>122001</td>\n",
       "      <td>0</td>\n",
       "    </tr>\n",
       "    <tr>\n",
       "      <th>3</th>\n",
       "      <td>2024-03-31</td>\n",
       "      <td>shipped</td>\n",
       "      <td>Amazon</td>\n",
       "      <td>expedited</td>\n",
       "      <td>JNE3405</td>\n",
       "      <td>JNE3405-KR-L</td>\n",
       "      <td>kurta</td>\n",
       "      <td>L</td>\n",
       "      <td>shipped</td>\n",
       "      <td>1</td>\n",
       "      <td>449.00</td>\n",
       "      <td>nalasopara east</td>\n",
       "      <td>401209</td>\n",
       "      <td>0</td>\n",
       "    </tr>\n",
       "    <tr>\n",
       "      <th>4</th>\n",
       "      <td>2024-03-31</td>\n",
       "      <td>shipped</td>\n",
       "      <td>Amazon</td>\n",
       "      <td>expedited</td>\n",
       "      <td>SET044</td>\n",
       "      <td>SET044-KR-NP-L</td>\n",
       "      <td>set</td>\n",
       "      <td>L</td>\n",
       "      <td>shipped</td>\n",
       "      <td>1</td>\n",
       "      <td>542.00</td>\n",
       "      <td>hyderabad</td>\n",
       "      <td>500024</td>\n",
       "      <td>0</td>\n",
       "    </tr>\n",
       "  </tbody>\n",
       "</table>\n",
       "</div>"
      ],
      "text/plain": [
       "         Date                        Status Fulfilment ship-service-level  \\\n",
       "0  2024-03-31  shipped - delivered to buyer   Merchant           standard   \n",
       "1  2024-03-31                       shipped     Amazon          expedited   \n",
       "2  2024-03-31                     cancelled   Merchant           standard   \n",
       "3  2024-03-31                       shipped     Amazon          expedited   \n",
       "4  2024-03-31                       shipped     Amazon          expedited   \n",
       "\n",
       "     Style              SKU Category Size Courier Status  Qty  Amount  \\\n",
       "0  JNE3724     JNE3724-KR-L    kurta    L        shipped    1  495.00   \n",
       "1   SET187  SET187-KR-DH-XL      set   XL        shipped    1  599.00   \n",
       "2  JNE3383   JNE3383-KR-A-M    kurta    M            NaN    0  416.19   \n",
       "3  JNE3405     JNE3405-KR-L    kurta    L        shipped    1  449.00   \n",
       "4   SET044   SET044-KR-NP-L      set    L        shipped    1  542.00   \n",
       "\n",
       "         ship-city  ship-postal-code  B2B  \n",
       "0          kolkata            700124    0  \n",
       "1        bengaluru            560090    0  \n",
       "2          gurgaon            122001    0  \n",
       "3  nalasopara east            401209    0  \n",
       "4        hyderabad            500024    0  "
      ]
     },
     "execution_count": 8,
     "metadata": {},
     "output_type": "execute_result"
    }
   ],
   "source": [
    "df.head()"
   ]
  },
  {
   "cell_type": "code",
   "execution_count": 9,
   "id": "cdd7737e",
   "metadata": {},
   "outputs": [
    {
     "data": {
      "text/html": [
       "<div>\n",
       "<style scoped>\n",
       "    .dataframe tbody tr th:only-of-type {\n",
       "        vertical-align: middle;\n",
       "    }\n",
       "\n",
       "    .dataframe tbody tr th {\n",
       "        vertical-align: top;\n",
       "    }\n",
       "\n",
       "    .dataframe thead th {\n",
       "        text-align: right;\n",
       "    }\n",
       "</style>\n",
       "<table border=\"1\" class=\"dataframe\">\n",
       "  <thead>\n",
       "    <tr style=\"text-align: right;\">\n",
       "      <th></th>\n",
       "      <th>Qty</th>\n",
       "      <th>Amount</th>\n",
       "      <th>ship-postal-code</th>\n",
       "      <th>B2B</th>\n",
       "    </tr>\n",
       "  </thead>\n",
       "  <tbody>\n",
       "    <tr>\n",
       "      <th>count</th>\n",
       "      <td>128975.000000</td>\n",
       "      <td>121180.000000</td>\n",
       "      <td>128975.000000</td>\n",
       "      <td>128975.000000</td>\n",
       "    </tr>\n",
       "    <tr>\n",
       "      <th>mean</th>\n",
       "      <td>0.904431</td>\n",
       "      <td>648.561465</td>\n",
       "      <td>463847.524466</td>\n",
       "      <td>0.006753</td>\n",
       "    </tr>\n",
       "    <tr>\n",
       "      <th>std</th>\n",
       "      <td>0.313354</td>\n",
       "      <td>281.211687</td>\n",
       "      <td>191596.021199</td>\n",
       "      <td>0.081901</td>\n",
       "    </tr>\n",
       "    <tr>\n",
       "      <th>min</th>\n",
       "      <td>0.000000</td>\n",
       "      <td>0.000000</td>\n",
       "      <td>0.000000</td>\n",
       "      <td>0.000000</td>\n",
       "    </tr>\n",
       "    <tr>\n",
       "      <th>25%</th>\n",
       "      <td>1.000000</td>\n",
       "      <td>449.000000</td>\n",
       "      <td>382421.000000</td>\n",
       "      <td>0.000000</td>\n",
       "    </tr>\n",
       "    <tr>\n",
       "      <th>50%</th>\n",
       "      <td>1.000000</td>\n",
       "      <td>605.000000</td>\n",
       "      <td>500033.000000</td>\n",
       "      <td>0.000000</td>\n",
       "    </tr>\n",
       "    <tr>\n",
       "      <th>75%</th>\n",
       "      <td>1.000000</td>\n",
       "      <td>788.000000</td>\n",
       "      <td>600024.000000</td>\n",
       "      <td>0.000000</td>\n",
       "    </tr>\n",
       "    <tr>\n",
       "      <th>max</th>\n",
       "      <td>15.000000</td>\n",
       "      <td>5584.000000</td>\n",
       "      <td>989898.000000</td>\n",
       "      <td>1.000000</td>\n",
       "    </tr>\n",
       "  </tbody>\n",
       "</table>\n",
       "</div>"
      ],
      "text/plain": [
       "                 Qty         Amount  ship-postal-code            B2B\n",
       "count  128975.000000  121180.000000     128975.000000  128975.000000\n",
       "mean        0.904431     648.561465     463847.524466       0.006753\n",
       "std         0.313354     281.211687     191596.021199       0.081901\n",
       "min         0.000000       0.000000          0.000000       0.000000\n",
       "25%         1.000000     449.000000     382421.000000       0.000000\n",
       "50%         1.000000     605.000000     500033.000000       0.000000\n",
       "75%         1.000000     788.000000     600024.000000       0.000000\n",
       "max        15.000000    5584.000000     989898.000000       1.000000"
      ]
     },
     "execution_count": 9,
     "metadata": {},
     "output_type": "execute_result"
    }
   ],
   "source": [
    "df.describe()"
   ]
  },
  {
   "cell_type": "code",
   "execution_count": 10,
   "id": "c34aae8d",
   "metadata": {},
   "outputs": [
    {
     "data": {
      "text/plain": [
       "(128975, 14)"
      ]
     },
     "execution_count": 10,
     "metadata": {},
     "output_type": "execute_result"
    }
   ],
   "source": [
    "df.shape"
   ]
  },
  {
   "cell_type": "code",
   "execution_count": 12,
   "id": "c7072bbb",
   "metadata": {},
   "outputs": [
    {
     "name": "stdout",
     "output_type": "stream",
     "text": [
      "<class 'pandas.core.frame.DataFrame'>\n",
      "RangeIndex: 128975 entries, 0 to 128974\n",
      "Data columns (total 14 columns):\n",
      " #   Column              Non-Null Count   Dtype  \n",
      "---  ------              --------------   -----  \n",
      " 0   Date                128975 non-null  object \n",
      " 1   Status              128975 non-null  object \n",
      " 2   Fulfilment          128975 non-null  object \n",
      " 3   ship-service-level  128975 non-null  object \n",
      " 4   Style               128975 non-null  object \n",
      " 5   SKU                 128975 non-null  object \n",
      " 6   Category            128975 non-null  object \n",
      " 7   Size                128975 non-null  object \n",
      " 8   Courier Status      122103 non-null  object \n",
      " 9   Qty                 128975 non-null  int64  \n",
      " 10  Amount              121180 non-null  float64\n",
      " 11  ship-city           128942 non-null  object \n",
      " 12  ship-postal-code    128975 non-null  int64  \n",
      " 13  B2B                 128975 non-null  int64  \n",
      "dtypes: float64(1), int64(3), object(10)\n",
      "memory usage: 13.8+ MB\n"
     ]
    }
   ],
   "source": [
    "df.info()"
   ]
  },
  {
   "cell_type": "code",
   "execution_count": 14,
   "id": "0ccac6aa",
   "metadata": {},
   "outputs": [
    {
     "data": {
      "text/plain": [
       "Date                     0\n",
       "Status                   0\n",
       "Fulfilment               0\n",
       "ship-service-level       0\n",
       "Style                    0\n",
       "SKU                      0\n",
       "Category                 0\n",
       "Size                     0\n",
       "Courier Status        6872\n",
       "Qty                      0\n",
       "Amount                7795\n",
       "ship-city               33\n",
       "ship-postal-code         0\n",
       "B2B                      0\n",
       "dtype: int64"
      ]
     },
     "execution_count": 14,
     "metadata": {},
     "output_type": "execute_result"
    }
   ],
   "source": [
    "df.isna().sum()"
   ]
  },
  {
   "cell_type": "code",
   "execution_count": 15,
   "id": "1b7ed2db",
   "metadata": {},
   "outputs": [
    {
     "data": {
      "text/plain": [
       "0         False\n",
       "1         False\n",
       "2         False\n",
       "3         False\n",
       "4         False\n",
       "          ...  \n",
       "128970    False\n",
       "128971    False\n",
       "128972    False\n",
       "128973    False\n",
       "128974    False\n",
       "Length: 128975, dtype: bool"
      ]
     },
     "execution_count": 15,
     "metadata": {},
     "output_type": "execute_result"
    }
   ],
   "source": [
    "df.duplicated()"
   ]
  },
  {
   "cell_type": "code",
   "execution_count": 16,
   "id": "b7c9dfc6",
   "metadata": {},
   "outputs": [],
   "source": [
    "df.drop_duplicates(inplace=True)"
   ]
  },
  {
   "cell_type": "code",
   "execution_count": 18,
   "id": "12e9b1a6",
   "metadata": {},
   "outputs": [
    {
     "data": {
      "text/plain": [
       "Date                     0\n",
       "Status                   0\n",
       "Fulfilment               0\n",
       "ship-service-level       0\n",
       "Style                    0\n",
       "SKU                      0\n",
       "Category                 0\n",
       "Size                     0\n",
       "Courier Status        6537\n",
       "Qty                      0\n",
       "Amount                7425\n",
       "ship-city               33\n",
       "ship-postal-code         0\n",
       "B2B                      0\n",
       "dtype: int64"
      ]
     },
     "execution_count": 18,
     "metadata": {},
     "output_type": "execute_result"
    }
   ],
   "source": [
    "df.isna().sum()"
   ]
  },
  {
   "cell_type": "code",
   "execution_count": 20,
   "id": "33260e66",
   "metadata": {},
   "outputs": [
    {
     "data": {
      "text/html": [
       "<div>\n",
       "<style scoped>\n",
       "    .dataframe tbody tr th:only-of-type {\n",
       "        vertical-align: middle;\n",
       "    }\n",
       "\n",
       "    .dataframe tbody tr th {\n",
       "        vertical-align: top;\n",
       "    }\n",
       "\n",
       "    .dataframe thead th {\n",
       "        text-align: right;\n",
       "    }\n",
       "</style>\n",
       "<table border=\"1\" class=\"dataframe\">\n",
       "  <thead>\n",
       "    <tr style=\"text-align: right;\">\n",
       "      <th></th>\n",
       "      <th>Qty</th>\n",
       "      <th>Amount</th>\n",
       "      <th>ship-postal-code</th>\n",
       "      <th>B2B</th>\n",
       "    </tr>\n",
       "  </thead>\n",
       "  <tbody>\n",
       "    <tr>\n",
       "      <th>count</th>\n",
       "      <td>127896.000000</td>\n",
       "      <td>120471.000000</td>\n",
       "      <td>127896.000000</td>\n",
       "      <td>127896.000000</td>\n",
       "    </tr>\n",
       "    <tr>\n",
       "      <th>mean</th>\n",
       "      <td>0.908308</td>\n",
       "      <td>648.418875</td>\n",
       "      <td>463786.472126</td>\n",
       "      <td>0.006771</td>\n",
       "    </tr>\n",
       "    <tr>\n",
       "      <th>std</th>\n",
       "      <td>0.308395</td>\n",
       "      <td>281.330050</td>\n",
       "      <td>191578.063904</td>\n",
       "      <td>0.082008</td>\n",
       "    </tr>\n",
       "    <tr>\n",
       "      <th>min</th>\n",
       "      <td>0.000000</td>\n",
       "      <td>0.000000</td>\n",
       "      <td>0.000000</td>\n",
       "      <td>0.000000</td>\n",
       "    </tr>\n",
       "    <tr>\n",
       "      <th>25%</th>\n",
       "      <td>1.000000</td>\n",
       "      <td>449.000000</td>\n",
       "      <td>382421.000000</td>\n",
       "      <td>0.000000</td>\n",
       "    </tr>\n",
       "    <tr>\n",
       "      <th>50%</th>\n",
       "      <td>1.000000</td>\n",
       "      <td>605.000000</td>\n",
       "      <td>500032.000000</td>\n",
       "      <td>0.000000</td>\n",
       "    </tr>\n",
       "    <tr>\n",
       "      <th>75%</th>\n",
       "      <td>1.000000</td>\n",
       "      <td>788.000000</td>\n",
       "      <td>600024.000000</td>\n",
       "      <td>0.000000</td>\n",
       "    </tr>\n",
       "    <tr>\n",
       "      <th>max</th>\n",
       "      <td>15.000000</td>\n",
       "      <td>5584.000000</td>\n",
       "      <td>989898.000000</td>\n",
       "      <td>1.000000</td>\n",
       "    </tr>\n",
       "  </tbody>\n",
       "</table>\n",
       "</div>"
      ],
      "text/plain": [
       "                 Qty         Amount  ship-postal-code            B2B\n",
       "count  127896.000000  120471.000000     127896.000000  127896.000000\n",
       "mean        0.908308     648.418875     463786.472126       0.006771\n",
       "std         0.308395     281.330050     191578.063904       0.082008\n",
       "min         0.000000       0.000000          0.000000       0.000000\n",
       "25%         1.000000     449.000000     382421.000000       0.000000\n",
       "50%         1.000000     605.000000     500032.000000       0.000000\n",
       "75%         1.000000     788.000000     600024.000000       0.000000\n",
       "max        15.000000    5584.000000     989898.000000       1.000000"
      ]
     },
     "execution_count": 20,
     "metadata": {},
     "output_type": "execute_result"
    }
   ],
   "source": [
    "df.describe()"
   ]
  },
  {
   "cell_type": "code",
   "execution_count": 22,
   "id": "67391ad8",
   "metadata": {},
   "outputs": [
    {
     "data": {
      "text/plain": [
       "<AxesSubplot: xlabel='Amount'>"
      ]
     },
     "execution_count": 22,
     "metadata": {},
     "output_type": "execute_result"
    },
    {
     "data": {
      "image/png": "[encoded data removed]",
      "text/plain": [
       "<Figure size 640x480 with 1 Axes>"
      ]
     },
     "metadata": {},
     "output_type": "display_data"
    }
   ],
   "source": [
    "sns.boxplot(x='Amount',data=df)"
   ]
  },
  {
   "cell_type": "code",
   "execution_count": 24,
   "id": "af1ad9ff",
   "metadata": {},
   "outputs": [
    {
     "data": {
      "text/plain": [
       "<AxesSubplot: xlabel='ship-postal-code'>"
      ]
     },
     "execution_count": 24,
     "metadata": {},
     "output_type": "execute_result"
    },
    {
     "data": {
      "image/png": "[encoded data removed]",
      "text/plain": [
       "<Figure size 640x480 with 1 Axes>"
      ]
     },
     "metadata": {},
     "output_type": "display_data"
    }
   ],
   "source": [
    "sns.boxplot(x='ship-postal-code',data=df)"
   ]
  },
  {
   "cell_type": "code",
   "execution_count": 26,
   "id": "09b05fd3",
   "metadata": {},
   "outputs": [
    {
     "name": "stdout",
     "output_type": "stream",
     "text": [
      "0         1\n",
      "1         1\n",
      "2         0\n",
      "3         1\n",
      "4         1\n",
      "         ..\n",
      "128970    1\n",
      "128971    1\n",
      "128972    1\n",
      "128973    1\n",
      "128974    1\n",
      "Name: Qty, Length: 127896, dtype: int64\n"
     ]
    }
   ],
   "source": [
    "print(df['Qty'])"
   ]
  },
  {
   "cell_type": "code",
   "execution_count": 31,
   "id": "b99f3fb9",
   "metadata": {},
   "outputs": [
    {
     "data": {
      "text/plain": [
       "Qty\n",
       "1     115304\n",
       "2        339\n",
       "3         32\n",
       "4          9\n",
       "5          2\n",
       "8          1\n",
       "13         1\n",
       "9          1\n",
       "15         1\n",
       "Name: count, dtype: int64"
      ]
     },
     "execution_count": 31,
     "metadata": {},
     "output_type": "execute_result"
    }
   ],
   "source": [
    "df['Qty'].value_counts()"
   ]
  },
  {
   "cell_type": "code",
   "execution_count": 28,
   "id": "773f9a77",
   "metadata": {},
   "outputs": [],
   "source": [
    "df=df[df['Qty']>=1]"
   ]
  },
  {
   "cell_type": "code",
   "execution_count": 30,
   "id": "1f017ccb",
   "metadata": {},
   "outputs": [
    {
     "name": "stdout",
     "output_type": "stream",
     "text": [
      "<class 'pandas.core.frame.DataFrame'>\n",
      "Index: 115690 entries, 0 to 128974\n",
      "Data columns (total 14 columns):\n",
      " #   Column              Non-Null Count   Dtype  \n",
      "---  ------              --------------   -----  \n",
      " 0   Date                115690 non-null  object \n",
      " 1   Status              115690 non-null  object \n",
      " 2   Fulfilment          115690 non-null  object \n",
      " 3   ship-service-level  115690 non-null  object \n",
      " 4   Style               115690 non-null  object \n",
      " 5   SKU                 115690 non-null  object \n",
      " 6   Category            115690 non-null  object \n",
      " 7   Size                115690 non-null  object \n",
      " 8   Courier Status      115690 non-null  object \n",
      " 9   Qty                 115690 non-null  int64  \n",
      " 10  Amount              115567 non-null  float64\n",
      " 11  ship-city           115662 non-null  object \n",
      " 12  ship-postal-code    115690 non-null  int64  \n",
      " 13  B2B                 115690 non-null  int64  \n",
      "dtypes: float64(1), int64(3), object(10)\n",
      "memory usage: 13.2+ MB\n"
     ]
    }
   ],
   "source": [
    "df.info()"
   ]
  },
  {
   "cell_type": "code",
   "execution_count": 32,
   "id": "9d403832",
   "metadata": {},
   "outputs": [],
   "source": [
    "df = df[df['Qty'] <= 1]\n"
   ]
  },
  {
   "cell_type": "code",
   "execution_count": 33,
   "id": "acf1f8ac",
   "metadata": {},
   "outputs": [
    {
     "data": {
      "text/html": [
       "<div>\n",
       "<style scoped>\n",
       "    .dataframe tbody tr th:only-of-type {\n",
       "        vertical-align: middle;\n",
       "    }\n",
       "\n",
       "    .dataframe tbody tr th {\n",
       "        vertical-align: top;\n",
       "    }\n",
       "\n",
       "    .dataframe thead th {\n",
       "        text-align: right;\n",
       "    }\n",
       "</style>\n",
       "<table border=\"1\" class=\"dataframe\">\n",
       "  <thead>\n",
       "    <tr style=\"text-align: right;\">\n",
       "      <th></th>\n",
       "      <th>Date</th>\n",
       "      <th>Status</th>\n",
       "      <th>Fulfilment</th>\n",
       "      <th>ship-service-level</th>\n",
       "      <th>Style</th>\n",
       "      <th>SKU</th>\n",
       "      <th>Category</th>\n",
       "      <th>Size</th>\n",
       "      <th>Courier Status</th>\n",
       "      <th>Qty</th>\n",
       "      <th>Amount</th>\n",
       "      <th>ship-city</th>\n",
       "      <th>ship-postal-code</th>\n",
       "      <th>B2B</th>\n",
       "    </tr>\n",
       "  </thead>\n",
       "  <tbody>\n",
       "    <tr>\n",
       "      <th>0</th>\n",
       "      <td>2024-03-31</td>\n",
       "      <td>shipped - delivered to buyer</td>\n",
       "      <td>Merchant</td>\n",
       "      <td>standard</td>\n",
       "      <td>JNE3724</td>\n",
       "      <td>JNE3724-KR-L</td>\n",
       "      <td>kurta</td>\n",
       "      <td>L</td>\n",
       "      <td>shipped</td>\n",
       "      <td>1</td>\n",
       "      <td>495.0</td>\n",
       "      <td>kolkata</td>\n",
       "      <td>700124</td>\n",
       "      <td>0</td>\n",
       "    </tr>\n",
       "    <tr>\n",
       "      <th>1</th>\n",
       "      <td>2024-03-31</td>\n",
       "      <td>shipped</td>\n",
       "      <td>Amazon</td>\n",
       "      <td>expedited</td>\n",
       "      <td>SET187</td>\n",
       "      <td>SET187-KR-DH-XL</td>\n",
       "      <td>set</td>\n",
       "      <td>XL</td>\n",
       "      <td>shipped</td>\n",
       "      <td>1</td>\n",
       "      <td>599.0</td>\n",
       "      <td>bengaluru</td>\n",
       "      <td>560090</td>\n",
       "      <td>0</td>\n",
       "    </tr>\n",
       "    <tr>\n",
       "      <th>3</th>\n",
       "      <td>2024-03-31</td>\n",
       "      <td>shipped</td>\n",
       "      <td>Amazon</td>\n",
       "      <td>expedited</td>\n",
       "      <td>JNE3405</td>\n",
       "      <td>JNE3405-KR-L</td>\n",
       "      <td>kurta</td>\n",
       "      <td>L</td>\n",
       "      <td>shipped</td>\n",
       "      <td>1</td>\n",
       "      <td>449.0</td>\n",
       "      <td>nalasopara east</td>\n",
       "      <td>401209</td>\n",
       "      <td>0</td>\n",
       "    </tr>\n",
       "    <tr>\n",
       "      <th>4</th>\n",
       "      <td>2024-03-31</td>\n",
       "      <td>shipped</td>\n",
       "      <td>Amazon</td>\n",
       "      <td>expedited</td>\n",
       "      <td>SET044</td>\n",
       "      <td>SET044-KR-NP-L</td>\n",
       "      <td>set</td>\n",
       "      <td>L</td>\n",
       "      <td>shipped</td>\n",
       "      <td>1</td>\n",
       "      <td>542.0</td>\n",
       "      <td>hyderabad</td>\n",
       "      <td>500024</td>\n",
       "      <td>0</td>\n",
       "    </tr>\n",
       "    <tr>\n",
       "      <th>8</th>\n",
       "      <td>2024-03-31</td>\n",
       "      <td>shipped</td>\n",
       "      <td>Amazon</td>\n",
       "      <td>expedited</td>\n",
       "      <td>J0345</td>\n",
       "      <td>J0345-SET-M</td>\n",
       "      <td>set</td>\n",
       "      <td>M</td>\n",
       "      <td>shipped</td>\n",
       "      <td>1</td>\n",
       "      <td>519.0</td>\n",
       "      <td>bengaluru</td>\n",
       "      <td>560085</td>\n",
       "      <td>0</td>\n",
       "    </tr>\n",
       "    <tr>\n",
       "      <th>...</th>\n",
       "      <td>...</td>\n",
       "      <td>...</td>\n",
       "      <td>...</td>\n",
       "      <td>...</td>\n",
       "      <td>...</td>\n",
       "      <td>...</td>\n",
       "      <td>...</td>\n",
       "      <td>...</td>\n",
       "      <td>...</td>\n",
       "      <td>...</td>\n",
       "      <td>...</td>\n",
       "      <td>...</td>\n",
       "      <td>...</td>\n",
       "      <td>...</td>\n",
       "    </tr>\n",
       "    <tr>\n",
       "      <th>128970</th>\n",
       "      <td>2024-06-29</td>\n",
       "      <td>pending</td>\n",
       "      <td>Amazon</td>\n",
       "      <td>expedited</td>\n",
       "      <td>SET196</td>\n",
       "      <td>SET196-KR-NP-XL</td>\n",
       "      <td>set</td>\n",
       "      <td>XL</td>\n",
       "      <td>unshipped</td>\n",
       "      <td>1</td>\n",
       "      <td>668.0</td>\n",
       "      <td>bangalore</td>\n",
       "      <td>560085</td>\n",
       "      <td>0</td>\n",
       "    </tr>\n",
       "    <tr>\n",
       "      <th>128971</th>\n",
       "      <td>2024-06-29</td>\n",
       "      <td>shipped</td>\n",
       "      <td>Amazon</td>\n",
       "      <td>expedited</td>\n",
       "      <td>SET044</td>\n",
       "      <td>SET044-KR-NP-S</td>\n",
       "      <td>set</td>\n",
       "      <td>S</td>\n",
       "      <td>shipped</td>\n",
       "      <td>1</td>\n",
       "      <td>612.0</td>\n",
       "      <td>patna</td>\n",
       "      <td>800002</td>\n",
       "      <td>0</td>\n",
       "    </tr>\n",
       "    <tr>\n",
       "      <th>128972</th>\n",
       "      <td>2024-06-29</td>\n",
       "      <td>pending</td>\n",
       "      <td>Amazon</td>\n",
       "      <td>expedited</td>\n",
       "      <td>J0111</td>\n",
       "      <td>J0111-TP-XL</td>\n",
       "      <td>top</td>\n",
       "      <td>XL</td>\n",
       "      <td>unshipped</td>\n",
       "      <td>1</td>\n",
       "      <td>423.0</td>\n",
       "      <td>bengaluru</td>\n",
       "      <td>560026</td>\n",
       "      <td>0</td>\n",
       "    </tr>\n",
       "    <tr>\n",
       "      <th>128973</th>\n",
       "      <td>2024-06-29</td>\n",
       "      <td>pending</td>\n",
       "      <td>Merchant</td>\n",
       "      <td>standard</td>\n",
       "      <td>JNE3776</td>\n",
       "      <td>JNE3776-KR-XL</td>\n",
       "      <td>kurta</td>\n",
       "      <td>XL</td>\n",
       "      <td>unshipped</td>\n",
       "      <td>1</td>\n",
       "      <td>301.0</td>\n",
       "      <td>loni</td>\n",
       "      <td>201102</td>\n",
       "      <td>0</td>\n",
       "    </tr>\n",
       "    <tr>\n",
       "      <th>128974</th>\n",
       "      <td>2024-06-29</td>\n",
       "      <td>pending</td>\n",
       "      <td>Amazon</td>\n",
       "      <td>expedited</td>\n",
       "      <td>JNE3336</td>\n",
       "      <td>JNE3336-KR-XS</td>\n",
       "      <td>kurta</td>\n",
       "      <td>XS</td>\n",
       "      <td>unshipped</td>\n",
       "      <td>1</td>\n",
       "      <td>330.0</td>\n",
       "      <td>manalurpet</td>\n",
       "      <td>605754</td>\n",
       "      <td>0</td>\n",
       "    </tr>\n",
       "  </tbody>\n",
       "</table>\n",
       "<p>115304 rows × 14 columns</p>\n",
       "</div>"
      ],
      "text/plain": [
       "              Date                        Status Fulfilment  \\\n",
       "0       2024-03-31  shipped - delivered to buyer   Merchant   \n",
       "1       2024-03-31                       shipped     Amazon   \n",
       "3       2024-03-31                       shipped     Amazon   \n",
       "4       2024-03-31                       shipped     Amazon   \n",
       "8       2024-03-31                       shipped     Amazon   \n",
       "...            ...                           ...        ...   \n",
       "128970  2024-06-29                       pending     Amazon   \n",
       "128971  2024-06-29                       shipped     Amazon   \n",
       "128972  2024-06-29                       pending     Amazon   \n",
       "128973  2024-06-29                       pending   Merchant   \n",
       "128974  2024-06-29                       pending     Amazon   \n",
       "\n",
       "       ship-service-level    Style              SKU Category Size  \\\n",
       "0                standard  JNE3724     JNE3724-KR-L    kurta    L   \n",
       "1               expedited   SET187  SET187-KR-DH-XL      set   XL   \n",
       "3               expedited  JNE3405     JNE3405-KR-L    kurta    L   \n",
       "4               expedited   SET044   SET044-KR-NP-L      set    L   \n",
       "8               expedited    J0345      J0345-SET-M      set    M   \n",
       "...                   ...      ...              ...      ...  ...   \n",
       "128970          expedited   SET196  SET196-KR-NP-XL      set   XL   \n",
       "128971          expedited   SET044   SET044-KR-NP-S      set    S   \n",
       "128972          expedited    J0111      J0111-TP-XL      top   XL   \n",
       "128973           standard  JNE3776    JNE3776-KR-XL    kurta   XL   \n",
       "128974          expedited  JNE3336    JNE3336-KR-XS    kurta   XS   \n",
       "\n",
       "       Courier Status  Qty  Amount        ship-city  ship-postal-code  B2B  \n",
       "0             shipped    1   495.0          kolkata            700124    0  \n",
       "1             shipped    1   599.0        bengaluru            560090    0  \n",
       "3             shipped    1   449.0  nalasopara east            401209    0  \n",
       "4             shipped    1   542.0        hyderabad            500024    0  \n",
       "8             shipped    1   519.0        bengaluru            560085    0  \n",
       "...               ...  ...     ...              ...               ...  ...  \n",
       "128970      unshipped    1   668.0        bangalore            560085    0  \n",
       "128971        shipped    1   612.0            patna            800002    0  \n",
       "128972      unshipped    1   423.0        bengaluru            560026    0  \n",
       "128973      unshipped    1   301.0             loni            201102    0  \n",
       "128974      unshipped    1   330.0       manalurpet            605754    0  \n",
       "\n",
       "[115304 rows x 14 columns]"
      ]
     },
     "execution_count": 33,
     "metadata": {},
     "output_type": "execute_result"
    }
   ],
   "source": [
    "df\n"
   ]
  },
  {
   "cell_type": "code",
   "execution_count": 34,
   "id": "7774945c",
   "metadata": {},
   "outputs": [
    {
     "data": {
      "text/plain": [
       "Qty\n",
       "1    115304\n",
       "Name: count, dtype: int64"
      ]
     },
     "execution_count": 34,
     "metadata": {},
     "output_type": "execute_result"
    }
   ],
   "source": [
    "df['Qty'].value_counts()"
   ]
  },
  {
   "cell_type": "code",
   "execution_count": 35,
   "id": "8a4ce270",
   "metadata": {},
   "outputs": [
    {
     "data": {
      "text/html": [
       "<div>\n",
       "<style scoped>\n",
       "    .dataframe tbody tr th:only-of-type {\n",
       "        vertical-align: middle;\n",
       "    }\n",
       "\n",
       "    .dataframe tbody tr th {\n",
       "        vertical-align: top;\n",
       "    }\n",
       "\n",
       "    .dataframe thead th {\n",
       "        text-align: right;\n",
       "    }\n",
       "</style>\n",
       "<table border=\"1\" class=\"dataframe\">\n",
       "  <thead>\n",
       "    <tr style=\"text-align: right;\">\n",
       "      <th></th>\n",
       "      <th>Qty</th>\n",
       "      <th>Amount</th>\n",
       "      <th>ship-postal-code</th>\n",
       "      <th>B2B</th>\n",
       "    </tr>\n",
       "  </thead>\n",
       "  <tbody>\n",
       "    <tr>\n",
       "      <th>count</th>\n",
       "      <td>115304.0</td>\n",
       "      <td>115190.000000</td>\n",
       "      <td>115304.000000</td>\n",
       "      <td>115304.000000</td>\n",
       "    </tr>\n",
       "    <tr>\n",
       "      <th>mean</th>\n",
       "      <td>1.0</td>\n",
       "      <td>647.563452</td>\n",
       "      <td>463034.678554</td>\n",
       "      <td>0.007034</td>\n",
       "    </tr>\n",
       "    <tr>\n",
       "      <th>std</th>\n",
       "      <td>0.0</td>\n",
       "      <td>278.740971</td>\n",
       "      <td>191111.946788</td>\n",
       "      <td>0.083571</td>\n",
       "    </tr>\n",
       "    <tr>\n",
       "      <th>min</th>\n",
       "      <td>1.0</td>\n",
       "      <td>0.000000</td>\n",
       "      <td>0.000000</td>\n",
       "      <td>0.000000</td>\n",
       "    </tr>\n",
       "    <tr>\n",
       "      <th>25%</th>\n",
       "      <td>1.0</td>\n",
       "      <td>449.000000</td>\n",
       "      <td>382424.000000</td>\n",
       "      <td>0.000000</td>\n",
       "    </tr>\n",
       "    <tr>\n",
       "      <th>50%</th>\n",
       "      <td>1.0</td>\n",
       "      <td>599.000000</td>\n",
       "      <td>500032.000000</td>\n",
       "      <td>0.000000</td>\n",
       "    </tr>\n",
       "    <tr>\n",
       "      <th>75%</th>\n",
       "      <td>1.0</td>\n",
       "      <td>788.000000</td>\n",
       "      <td>600016.000000</td>\n",
       "      <td>0.000000</td>\n",
       "    </tr>\n",
       "    <tr>\n",
       "      <th>max</th>\n",
       "      <td>1.0</td>\n",
       "      <td>2598.000000</td>\n",
       "      <td>855117.000000</td>\n",
       "      <td>1.000000</td>\n",
       "    </tr>\n",
       "  </tbody>\n",
       "</table>\n",
       "</div>"
      ],
      "text/plain": [
       "            Qty         Amount  ship-postal-code            B2B\n",
       "count  115304.0  115190.000000     115304.000000  115304.000000\n",
       "mean        1.0     647.563452     463034.678554       0.007034\n",
       "std         0.0     278.740971     191111.946788       0.083571\n",
       "min         1.0       0.000000          0.000000       0.000000\n",
       "25%         1.0     449.000000     382424.000000       0.000000\n",
       "50%         1.0     599.000000     500032.000000       0.000000\n",
       "75%         1.0     788.000000     600016.000000       0.000000\n",
       "max         1.0    2598.000000     855117.000000       1.000000"
      ]
     },
     "execution_count": 35,
     "metadata": {},
     "output_type": "execute_result"
    }
   ],
   "source": [
    "df.describe()"
   ]
  },
  {
   "cell_type": "code",
   "execution_count": 36,
   "id": "24372ad6",
   "metadata": {},
   "outputs": [],
   "source": [
    "df.to_csv('quantity_dropped.csv',index=False)"
   ]
  },
  {
   "cell_type": "code",
   "execution_count": 38,
   "id": "750d043a",
   "metadata": {},
   "outputs": [],
   "source": [
    "df.drop(['ship-postal-code'],axis=1,inplace=True)"
   ]
  },
  {
   "cell_type": "code",
   "execution_count": 39,
   "id": "11cfa34f",
   "metadata": {},
   "outputs": [
    {
     "data": {
      "text/html": [
       "<div>\n",
       "<style scoped>\n",
       "    .dataframe tbody tr th:only-of-type {\n",
       "        vertical-align: middle;\n",
       "    }\n",
       "\n",
       "    .dataframe tbody tr th {\n",
       "        vertical-align: top;\n",
       "    }\n",
       "\n",
       "    .dataframe thead th {\n",
       "        text-align: right;\n",
       "    }\n",
       "</style>\n",
       "<table border=\"1\" class=\"dataframe\">\n",
       "  <thead>\n",
       "    <tr style=\"text-align: right;\">\n",
       "      <th></th>\n",
       "      <th>Qty</th>\n",
       "      <th>Amount</th>\n",
       "      <th>B2B</th>\n",
       "    </tr>\n",
       "  </thead>\n",
       "  <tbody>\n",
       "    <tr>\n",
       "      <th>count</th>\n",
       "      <td>115304.0</td>\n",
       "      <td>115190.000000</td>\n",
       "      <td>115304.000000</td>\n",
       "    </tr>\n",
       "    <tr>\n",
       "      <th>mean</th>\n",
       "      <td>1.0</td>\n",
       "      <td>647.563452</td>\n",
       "      <td>0.007034</td>\n",
       "    </tr>\n",
       "    <tr>\n",
       "      <th>std</th>\n",
       "      <td>0.0</td>\n",
       "      <td>278.740971</td>\n",
       "      <td>0.083571</td>\n",
       "    </tr>\n",
       "    <tr>\n",
       "      <th>min</th>\n",
       "      <td>1.0</td>\n",
       "      <td>0.000000</td>\n",
       "      <td>0.000000</td>\n",
       "    </tr>\n",
       "    <tr>\n",
       "      <th>25%</th>\n",
       "      <td>1.0</td>\n",
       "      <td>449.000000</td>\n",
       "      <td>0.000000</td>\n",
       "    </tr>\n",
       "    <tr>\n",
       "      <th>50%</th>\n",
       "      <td>1.0</td>\n",
       "      <td>599.000000</td>\n",
       "      <td>0.000000</td>\n",
       "    </tr>\n",
       "    <tr>\n",
       "      <th>75%</th>\n",
       "      <td>1.0</td>\n",
       "      <td>788.000000</td>\n",
       "      <td>0.000000</td>\n",
       "    </tr>\n",
       "    <tr>\n",
       "      <th>max</th>\n",
       "      <td>1.0</td>\n",
       "      <td>2598.000000</td>\n",
       "      <td>1.000000</td>\n",
       "    </tr>\n",
       "  </tbody>\n",
       "</table>\n",
       "</div>"
      ],
      "text/plain": [
       "            Qty         Amount            B2B\n",
       "count  115304.0  115190.000000  115304.000000\n",
       "mean        1.0     647.563452       0.007034\n",
       "std         0.0     278.740971       0.083571\n",
       "min         1.0       0.000000       0.000000\n",
       "25%         1.0     449.000000       0.000000\n",
       "50%         1.0     599.000000       0.000000\n",
       "75%         1.0     788.000000       0.000000\n",
       "max         1.0    2598.000000       1.000000"
      ]
     },
     "execution_count": 39,
     "metadata": {},
     "output_type": "execute_result"
    }
   ],
   "source": [
    "df.describe()"
   ]
  },
  {
   "cell_type": "code",
   "execution_count": 41,
   "id": "4481b376",
   "metadata": {},
   "outputs": [],
   "source": [
    "df.to_csv('no_shipment.csv',index=False)"
   ]
  },
  {
   "cell_type": "code",
   "execution_count": 42,
   "id": "c0f77fea",
   "metadata": {},
   "outputs": [],
   "source": [
    "df.drop(['B2B'],axis=1,inplace=True)"
   ]
  },
  {
   "cell_type": "code",
   "execution_count": 43,
   "id": "0b257ee7",
   "metadata": {},
   "outputs": [],
   "source": [
    "df.to_csv('no_B2B.csv',index=False)"
   ]
  },
  {
   "cell_type": "code",
   "execution_count": 44,
   "id": "05d8e2b7",
   "metadata": {},
   "outputs": [
    {
     "data": {
      "text/html": [
       "<div>\n",
       "<style scoped>\n",
       "    .dataframe tbody tr th:only-of-type {\n",
       "        vertical-align: middle;\n",
       "    }\n",
       "\n",
       "    .dataframe tbody tr th {\n",
       "        vertical-align: top;\n",
       "    }\n",
       "\n",
       "    .dataframe thead th {\n",
       "        text-align: right;\n",
       "    }\n",
       "</style>\n",
       "<table border=\"1\" class=\"dataframe\">\n",
       "  <thead>\n",
       "    <tr style=\"text-align: right;\">\n",
       "      <th></th>\n",
       "      <th>Qty</th>\n",
       "      <th>Amount</th>\n",
       "    </tr>\n",
       "  </thead>\n",
       "  <tbody>\n",
       "    <tr>\n",
       "      <th>count</th>\n",
       "      <td>115304.0</td>\n",
       "      <td>115190.000000</td>\n",
       "    </tr>\n",
       "    <tr>\n",
       "      <th>mean</th>\n",
       "      <td>1.0</td>\n",
       "      <td>647.563452</td>\n",
       "    </tr>\n",
       "    <tr>\n",
       "      <th>std</th>\n",
       "      <td>0.0</td>\n",
       "      <td>278.740971</td>\n",
       "    </tr>\n",
       "    <tr>\n",
       "      <th>min</th>\n",
       "      <td>1.0</td>\n",
       "      <td>0.000000</td>\n",
       "    </tr>\n",
       "    <tr>\n",
       "      <th>25%</th>\n",
       "      <td>1.0</td>\n",
       "      <td>449.000000</td>\n",
       "    </tr>\n",
       "    <tr>\n",
       "      <th>50%</th>\n",
       "      <td>1.0</td>\n",
       "      <td>599.000000</td>\n",
       "    </tr>\n",
       "    <tr>\n",
       "      <th>75%</th>\n",
       "      <td>1.0</td>\n",
       "      <td>788.000000</td>\n",
       "    </tr>\n",
       "    <tr>\n",
       "      <th>max</th>\n",
       "      <td>1.0</td>\n",
       "      <td>2598.000000</td>\n",
       "    </tr>\n",
       "  </tbody>\n",
       "</table>\n",
       "</div>"
      ],
      "text/plain": [
       "            Qty         Amount\n",
       "count  115304.0  115190.000000\n",
       "mean        1.0     647.563452\n",
       "std         0.0     278.740971\n",
       "min         1.0       0.000000\n",
       "25%         1.0     449.000000\n",
       "50%         1.0     599.000000\n",
       "75%         1.0     788.000000\n",
       "max         1.0    2598.000000"
      ]
     },
     "execution_count": 44,
     "metadata": {},
     "output_type": "execute_result"
    }
   ],
   "source": [
    "df.describe()"
   ]
  },
  {
   "cell_type": "code",
   "execution_count": 45,
   "id": "fb3c3585",
   "metadata": {},
   "outputs": [
    {
     "data": {
      "text/html": [
       "<div>\n",
       "<style scoped>\n",
       "    .dataframe tbody tr th:only-of-type {\n",
       "        vertical-align: middle;\n",
       "    }\n",
       "\n",
       "    .dataframe tbody tr th {\n",
       "        vertical-align: top;\n",
       "    }\n",
       "\n",
       "    .dataframe thead th {\n",
       "        text-align: right;\n",
       "    }\n",
       "</style>\n",
       "<table border=\"1\" class=\"dataframe\">\n",
       "  <thead>\n",
       "    <tr style=\"text-align: right;\">\n",
       "      <th></th>\n",
       "      <th>Date</th>\n",
       "      <th>Status</th>\n",
       "      <th>Fulfilment</th>\n",
       "      <th>ship-service-level</th>\n",
       "      <th>Style</th>\n",
       "      <th>SKU</th>\n",
       "      <th>Category</th>\n",
       "      <th>Size</th>\n",
       "      <th>Courier Status</th>\n",
       "      <th>Qty</th>\n",
       "      <th>Amount</th>\n",
       "      <th>ship-city</th>\n",
       "    </tr>\n",
       "  </thead>\n",
       "  <tbody>\n",
       "    <tr>\n",
       "      <th>0</th>\n",
       "      <td>2024-03-31</td>\n",
       "      <td>shipped - delivered to buyer</td>\n",
       "      <td>Merchant</td>\n",
       "      <td>standard</td>\n",
       "      <td>JNE3724</td>\n",
       "      <td>JNE3724-KR-L</td>\n",
       "      <td>kurta</td>\n",
       "      <td>L</td>\n",
       "      <td>shipped</td>\n",
       "      <td>1</td>\n",
       "      <td>495.0</td>\n",
       "      <td>kolkata</td>\n",
       "    </tr>\n",
       "    <tr>\n",
       "      <th>1</th>\n",
       "      <td>2024-03-31</td>\n",
       "      <td>shipped</td>\n",
       "      <td>Amazon</td>\n",
       "      <td>expedited</td>\n",
       "      <td>SET187</td>\n",
       "      <td>SET187-KR-DH-XL</td>\n",
       "      <td>set</td>\n",
       "      <td>XL</td>\n",
       "      <td>shipped</td>\n",
       "      <td>1</td>\n",
       "      <td>599.0</td>\n",
       "      <td>bengaluru</td>\n",
       "    </tr>\n",
       "    <tr>\n",
       "      <th>3</th>\n",
       "      <td>2024-03-31</td>\n",
       "      <td>shipped</td>\n",
       "      <td>Amazon</td>\n",
       "      <td>expedited</td>\n",
       "      <td>JNE3405</td>\n",
       "      <td>JNE3405-KR-L</td>\n",
       "      <td>kurta</td>\n",
       "      <td>L</td>\n",
       "      <td>shipped</td>\n",
       "      <td>1</td>\n",
       "      <td>449.0</td>\n",
       "      <td>nalasopara east</td>\n",
       "    </tr>\n",
       "    <tr>\n",
       "      <th>4</th>\n",
       "      <td>2024-03-31</td>\n",
       "      <td>shipped</td>\n",
       "      <td>Amazon</td>\n",
       "      <td>expedited</td>\n",
       "      <td>SET044</td>\n",
       "      <td>SET044-KR-NP-L</td>\n",
       "      <td>set</td>\n",
       "      <td>L</td>\n",
       "      <td>shipped</td>\n",
       "      <td>1</td>\n",
       "      <td>542.0</td>\n",
       "      <td>hyderabad</td>\n",
       "    </tr>\n",
       "    <tr>\n",
       "      <th>8</th>\n",
       "      <td>2024-03-31</td>\n",
       "      <td>shipped</td>\n",
       "      <td>Amazon</td>\n",
       "      <td>expedited</td>\n",
       "      <td>J0345</td>\n",
       "      <td>J0345-SET-M</td>\n",
       "      <td>set</td>\n",
       "      <td>M</td>\n",
       "      <td>shipped</td>\n",
       "      <td>1</td>\n",
       "      <td>519.0</td>\n",
       "      <td>bengaluru</td>\n",
       "    </tr>\n",
       "  </tbody>\n",
       "</table>\n",
       "</div>"
      ],
      "text/plain": [
       "         Date                        Status Fulfilment ship-service-level  \\\n",
       "0  2024-03-31  shipped - delivered to buyer   Merchant           standard   \n",
       "1  2024-03-31                       shipped     Amazon          expedited   \n",
       "3  2024-03-31                       shipped     Amazon          expedited   \n",
       "4  2024-03-31                       shipped     Amazon          expedited   \n",
       "8  2024-03-31                       shipped     Amazon          expedited   \n",
       "\n",
       "     Style              SKU Category Size Courier Status  Qty  Amount  \\\n",
       "0  JNE3724     JNE3724-KR-L    kurta    L        shipped    1   495.0   \n",
       "1   SET187  SET187-KR-DH-XL      set   XL        shipped    1   599.0   \n",
       "3  JNE3405     JNE3405-KR-L    kurta    L        shipped    1   449.0   \n",
       "4   SET044   SET044-KR-NP-L      set    L        shipped    1   542.0   \n",
       "8    J0345      J0345-SET-M      set    M        shipped    1   519.0   \n",
       "\n",
       "         ship-city  \n",
       "0          kolkata  \n",
       "1        bengaluru  \n",
       "3  nalasopara east  \n",
       "4        hyderabad  \n",
       "8        bengaluru  "
      ]
     },
     "execution_count": 45,
     "metadata": {},
     "output_type": "execute_result"
    }
   ],
   "source": [
    "df.head()"
   ]
  },
  {
   "cell_type": "code",
   "execution_count": 48,
   "id": "53258155",
   "metadata": {},
   "outputs": [
    {
     "data": {
      "text/plain": [
       "Size\n",
       "M       20209\n",
       "L       19782\n",
       "XL      18723\n",
       "XXL     16305\n",
       "S       15161\n",
       "3XL     13388\n",
       "XS       9819\n",
       "6XL       683\n",
       "5XL       510\n",
       "4XL       392\n",
       "FREE      332\n",
       "Name: count, dtype: int64"
      ]
     },
     "execution_count": 48,
     "metadata": {},
     "output_type": "execute_result"
    }
   ],
   "source": [
    "df['Size'].value_counts()"
   ]
  },
  {
   "cell_type": "code",
   "execution_count": 52,
   "id": "940bc580",
   "metadata": {},
   "outputs": [
    {
     "data": {
      "text/html": [
       "<div>\n",
       "<style scoped>\n",
       "    .dataframe tbody tr th:only-of-type {\n",
       "        vertical-align: middle;\n",
       "    }\n",
       "\n",
       "    .dataframe tbody tr th {\n",
       "        vertical-align: top;\n",
       "    }\n",
       "\n",
       "    .dataframe thead th {\n",
       "        text-align: right;\n",
       "    }\n",
       "</style>\n",
       "<table border=\"1\" class=\"dataframe\">\n",
       "  <thead>\n",
       "    <tr style=\"text-align: right;\">\n",
       "      <th></th>\n",
       "      <th>Qty</th>\n",
       "      <th>Amount</th>\n",
       "    </tr>\n",
       "  </thead>\n",
       "  <tbody>\n",
       "    <tr>\n",
       "      <th>count</th>\n",
       "      <td>115304.0</td>\n",
       "      <td>115190.000000</td>\n",
       "    </tr>\n",
       "    <tr>\n",
       "      <th>mean</th>\n",
       "      <td>1.0</td>\n",
       "      <td>647.563452</td>\n",
       "    </tr>\n",
       "    <tr>\n",
       "      <th>std</th>\n",
       "      <td>0.0</td>\n",
       "      <td>278.740971</td>\n",
       "    </tr>\n",
       "    <tr>\n",
       "      <th>min</th>\n",
       "      <td>1.0</td>\n",
       "      <td>0.000000</td>\n",
       "    </tr>\n",
       "    <tr>\n",
       "      <th>25%</th>\n",
       "      <td>1.0</td>\n",
       "      <td>449.000000</td>\n",
       "    </tr>\n",
       "    <tr>\n",
       "      <th>50%</th>\n",
       "      <td>1.0</td>\n",
       "      <td>599.000000</td>\n",
       "    </tr>\n",
       "    <tr>\n",
       "      <th>75%</th>\n",
       "      <td>1.0</td>\n",
       "      <td>788.000000</td>\n",
       "    </tr>\n",
       "    <tr>\n",
       "      <th>max</th>\n",
       "      <td>1.0</td>\n",
       "      <td>2598.000000</td>\n",
       "    </tr>\n",
       "  </tbody>\n",
       "</table>\n",
       "</div>"
      ],
      "text/plain": [
       "            Qty         Amount\n",
       "count  115304.0  115190.000000\n",
       "mean        1.0     647.563452\n",
       "std         0.0     278.740971\n",
       "min         1.0       0.000000\n",
       "25%         1.0     449.000000\n",
       "50%         1.0     599.000000\n",
       "75%         1.0     788.000000\n",
       "max         1.0    2598.000000"
      ]
     },
     "execution_count": 52,
     "metadata": {},
     "output_type": "execute_result"
    }
   ],
   "source": [
    "df.describe()"
   ]
  },
  {
   "cell_type": "code",
   "execution_count": 53,
   "id": "7d6ff1e8",
   "metadata": {},
   "outputs": [
    {
     "data": {
      "text/plain": [
       "<AxesSubplot: >"
      ]
     },
     "execution_count": 53,
     "metadata": {},
     "output_type": "execute_result"
    },
    {
     "data": {
      "image/png": "[encoded data removed]",
      "text/plain": [
       "<Figure size 640x480 with 1 Axes>"
      ]
     },
     "metadata": {},
     "output_type": "display_data"
    }
   ],
   "source": [
    "df.boxplot(column='Amount')\n"
   ]
  },
  {
   "cell_type": "code",
   "execution_count": 54,
   "id": "a3d0b04d",
   "metadata": {},
   "outputs": [
    {
     "data": {
      "text/plain": [
       "Amount\n",
       "399.0     5418\n",
       "771.0     2780\n",
       "735.0     2428\n",
       "0.0       2343\n",
       "487.0     2287\n",
       "          ... \n",
       "748.0        1\n",
       "639.0        1\n",
       "384.0        1\n",
       "1566.0       1\n",
       "779.0        1\n",
       "Name: count, Length: 747, dtype: int64"
      ]
     },
     "execution_count": 54,
     "metadata": {},
     "output_type": "execute_result"
    }
   ],
   "source": [
    "df['Amount'].value_counts()"
   ]
  },
  {
   "cell_type": "code",
   "execution_count": 57,
   "id": "9eb666bb",
   "metadata": {},
   "outputs": [
    {
     "data": {
      "text/plain": [
       "114"
      ]
     },
     "execution_count": 57,
     "metadata": {},
     "output_type": "execute_result"
    }
   ],
   "source": [
    "df['Amount'].isna().sum()"
   ]
  },
  {
   "cell_type": "code",
   "execution_count": 58,
   "id": "aef2bb45",
   "metadata": {},
   "outputs": [],
   "source": [
    "df = df.dropna(subset=['Amount'])"
   ]
  },
  {
   "cell_type": "code",
   "execution_count": 59,
   "id": "902d8eca",
   "metadata": {},
   "outputs": [
    {
     "data": {
      "text/plain": [
       "0"
      ]
     },
     "execution_count": 59,
     "metadata": {},
     "output_type": "execute_result"
    }
   ],
   "source": [
    "df['Amount'].isna().sum()"
   ]
  },
  {
   "cell_type": "code",
   "execution_count": 61,
   "id": "c931907d",
   "metadata": {},
   "outputs": [
    {
     "name": "stdout",
     "output_type": "stream",
     "text": [
      "Amount\n",
      "399.0     5418\n",
      "771.0     2780\n",
      "735.0     2428\n",
      "0.0       2343\n",
      "487.0     2287\n",
      "          ... \n",
      "748.0        1\n",
      "639.0        1\n",
      "384.0        1\n",
      "1566.0       1\n",
      "779.0        1\n",
      "Name: count, Length: 747, dtype: int64\n"
     ]
    }
   ],
   "source": [
    "print(df['Amount'].value_counts())"
   ]
  },
  {
   "cell_type": "code",
   "execution_count": 62,
   "id": "299cf656",
   "metadata": {},
   "outputs": [
    {
     "data": {
      "text/plain": [
       "<AxesSubplot: >"
      ]
     },
     "execution_count": 62,
     "metadata": {},
     "output_type": "execute_result"
    },
    {
     "data": {
      "image/png": "[encoded data removed]",
      "text/plain": [
       "<Figure size 640x480 with 1 Axes>"
      ]
     },
     "metadata": {},
     "output_type": "display_data"
    }
   ],
   "source": [
    "df.boxplot(column='Amount')\n"
   ]
  },
  {
   "cell_type": "code",
   "execution_count": 64,
   "id": "1069f723",
   "metadata": {},
   "outputs": [
    {
     "data": {
      "text/plain": [
       "<AxesSubplot: xlabel='Size', ylabel='count'>"
      ]
     },
     "execution_count": 64,
     "metadata": {},
     "output_type": "execute_result"
    },
    {
     "data": {
      "image/png": "[encoded data removed]",
      "text/plain": [
       "<Figure size 640x480 with 1 Axes>"
      ]
     },
     "metadata": {},
     "output_type": "display_data"
    }
   ],
   "source": [
    "sns.countplot(x='Size',data=df)"
   ]
  },
  {
   "cell_type": "code",
   "execution_count": 66,
   "id": "2e4787cb",
   "metadata": {},
   "outputs": [
    {
     "data": {
      "text/plain": [
       "<AxesSubplot: xlabel='count', ylabel='ship-city'>"
      ]
     },
     "execution_count": 66,
     "metadata": {},
     "output_type": "execute_result"
    },
    {
     "name": "stderr",
     "output_type": "stream",
     "text": [
      "/usr/lib/python3/dist-packages/IPython/core/events.py:82: UserWarning: Glyph 2354 (\\N{DEVANAGARI LETTER LA}) missing from current font.\n",
      "  func(*args, **kwargs)\n",
      "/usr/lib/python3/dist-packages/IPython/core/events.py:82: UserWarning: Matplotlib currently does not support Devanagari natively.\n",
      "  func(*args, **kwargs)\n",
      "/usr/lib/python3/dist-packages/IPython/core/events.py:82: UserWarning: Glyph 2326 (\\N{DEVANAGARI LETTER KHA}) missing from current font.\n",
      "  func(*args, **kwargs)\n",
      "/usr/lib/python3/dist-packages/IPython/core/events.py:82: UserWarning: Glyph 2344 (\\N{DEVANAGARI LETTER NA}) missing from current font.\n",
      "  func(*args, **kwargs)\n",
      "/usr/lib/python3/dist-packages/IPython/core/events.py:82: UserWarning: Glyph 2314 (\\N{DEVANAGARI LETTER UU}) missing from current font.\n",
      "  func(*args, **kwargs)\n",
      "/usr/lib/python3/dist-packages/IPython/core/pylabtools.py:152: UserWarning: Glyph 2354 (\\N{DEVANAGARI LETTER LA}) missing from current font.\n",
      "  fig.canvas.print_figure(bytes_io, **kw)\n",
      "/usr/lib/python3/dist-packages/IPython/core/pylabtools.py:152: UserWarning: Matplotlib currently does not support Devanagari natively.\n",
      "  fig.canvas.print_figure(bytes_io, **kw)\n",
      "/usr/lib/python3/dist-packages/IPython/core/pylabtools.py:152: UserWarning: Glyph 2326 (\\N{DEVANAGARI LETTER KHA}) missing from current font.\n",
      "  fig.canvas.print_figure(bytes_io, **kw)\n",
      "/usr/lib/python3/dist-packages/IPython/core/pylabtools.py:152: UserWarning: Glyph 2344 (\\N{DEVANAGARI LETTER NA}) missing from current font.\n",
      "  fig.canvas.print_figure(bytes_io, **kw)\n",
      "/usr/lib/python3/dist-packages/IPython/core/pylabtools.py:152: UserWarning: Glyph 2314 (\\N{DEVANAGARI LETTER UU}) missing from current font.\n",
      "  fig.canvas.print_figure(bytes_io, **kw)\n"
     ]
    },
    {
     "data": {
      "image/png": "[encoded data removed]",
      "text/plain": [
       "<Figure size 640x480 with 1 Axes>"
      ]
     },
     "metadata": {},
     "output_type": "display_data"
    }
   ],
   "source": [
    "sns.countplot(y='ship-city',data=df)"
   ]
  },
  {
   "cell_type": "code",
   "execution_count": 67,
   "id": "6e8524dc",
   "metadata": {},
   "outputs": [],
   "source": [
    "df.to_csv('final-report.csv',index=False)"
   ]
  },
  {
   "cell_type": "code",
   "execution_count": null,
   "id": "efd069a4",
   "metadata": {},
   "outputs": [],
   "source": []
  }
 ],
 "metadata": {
  "kernelspec": {
   "display_name": "Python 3 (ipykernel)",
   "language": "python",
   "name": "python3"
  },
  "language_info": {
   "codemirror_mode": {
    "name": "ipython",
    "version": 3
   },
   "file_extension": ".py",
   "mimetype": "text/x-python",
   "name": "python",
   "nbconvert_exporter": "python",
   "pygments_lexer": "ipython3",
   "version": "3.12.3"
  }
 },
 "nbformat": 4,
 "nbformat_minor": 5
}
